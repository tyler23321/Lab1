{
  "nbformat": 4,
  "nbformat_minor": 0,
  "metadata": {
    "colab": {
      "name": "Lab1.ipynb",
      "provenance": [],
      "authorship_tag": "ABX9TyP9Fto1TbS/QckNQBjSkG+e",
      "include_colab_link": true
    },
    "kernelspec": {
      "name": "python3",
      "display_name": "Python 3"
    }
  },
  "cells": [
    {
      "cell_type": "markdown",
      "metadata": {
        "id": "view-in-github",
        "colab_type": "text"
      },
      "source": [
        "<a href=\"https://colab.research.google.com/github/tyler23321/Lab1/blob/master/Lab1.ipynb\" target=\"_parent\"><img src=\"https://colab.research.google.com/assets/colab-badge.svg\" alt=\"Open In Colab\"/></a>"
      ]
    },
    {
      "cell_type": "markdown",
      "metadata": {
        "id": "2_Mo6UYhHPz2",
        "colab_type": "text"
      },
      "source": [
        "## Do you like using Jupyter Notebooks?"
      ]
    },
    {
      "cell_type": "markdown",
      "metadata": {
        "id": "PQbubpUIHi0C",
        "colab_type": "text"
      },
      "source": [
        "I don't really know if I like using jupyter notebooks at this point.  This is my first time ever using these types of platforms."
      ]
    },
    {
      "cell_type": "markdown",
      "metadata": {
        "id": "syTN53XhH4kE",
        "colab_type": "text"
      },
      "source": [
        "## What do you want to learn more about in Jupyter Notebooks?"
      ]
    },
    {
      "cell_type": "markdown",
      "metadata": {
        "id": "Y_Hq7yVWIDdl",
        "colab_type": "text"
      },
      "source": [
        "I would like to learn about the applications in which you can use these in a professional sense.  Like I said in the previous cell i'm still not exactly sure what this platform is used for and I would like to gain an understanding of the software."
      ]
    },
    {
      "cell_type": "markdown",
      "metadata": {
        "id": "q5lTqwvOJjI9",
        "colab_type": "text"
      },
      "source": [
        "![my dog on water](https://raw.githubusercontent.com/tyler23321/Lab1/master/images/E69A0FC6-953D-44A9-B9B8-166E5BFF2DA3.jpeg)"
      ]
    }
  ]
}